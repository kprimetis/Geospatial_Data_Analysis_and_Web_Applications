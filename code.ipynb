{
 "cells": [
  {
   "cell_type": "code",
   "execution_count": null,
   "metadata": {},
   "outputs": [],
   "source": [
    "!pip install geopandas\n",
    "!pip install folium\n",
    "!pip install leafmap\n",
    "!pip install rasterio"
   ]
  },
  {
   "cell_type": "code",
   "execution_count": null,
   "metadata": {},
   "outputs": [],
   "source": [
    "import geopandas as gpd\n",
    "import folium\n",
    "import leafmap as leaf\n",
    "import rasterio\n",
    "import pandas as pd\n",
    "import json\n",
    "import shapely\n",
    "import requests\n",
    "import matplotlib.pyplot as plt\n",
    "import numpy as np\n",
    "from pyproj import Transformer\n",
    "from rasterio.mask import mask\n",
    "import datetime\n",
    "from shapely.geometry import Point\n",
    "import fiona"
   ]
  },
  {
   "cell_type": "code",
   "execution_count": null,
   "metadata": {},
   "outputs": [],
   "source": [
    "from google.colab import drive\n",
    "drive.mount('/content/drive')"
   ]
  },
  {
   "cell_type": "markdown",
   "metadata": {},
   "source": [
    "**Ερώτημα 1**"
   ]
  },
  {
   "cell_type": "code",
   "execution_count": null,
   "metadata": {},
   "outputs": [],
   "source": [
    "study_area = gpd.read_file('/content/drive/My Drive/Geospatial Data Analysis/Exercises/Ex1/map.geojson')"
   ]
  },
  {
   "cell_type": "code",
   "execution_count": null,
   "metadata": {},
   "outputs": [],
   "source": [
    "print(study_area.head())"
   ]
  },
  {
   "cell_type": "code",
   "execution_count": null,
   "metadata": {},
   "outputs": [],
   "source": [
    "kastoria = rasterio.open('/content/drive/My Drive/Geospatial Data Analysis/Exercises/Ex1/Kastoria/Kastoria.tif')"
   ]
  },
  {
   "cell_type": "code",
   "execution_count": null,
   "metadata": {},
   "outputs": [],
   "source": [
    "type(kastoria)"
   ]
  },
  {
   "cell_type": "code",
   "execution_count": null,
   "metadata": {},
   "outputs": [],
   "source": [
    "kastoria.meta"
   ]
  },
  {
   "cell_type": "markdown",
   "metadata": {},
   "source": [
    "WGS 84 / UTM zone 34N"
   ]
  },
  {
   "cell_type": "code",
   "execution_count": null,
   "metadata": {},
   "outputs": [],
   "source": [
    "band1 = kastoria.read(1)\n",
    "print(\"\\nRaster Data (Band 1):\")\n",
    "print(band1)"
   ]
  },
  {
   "cell_type": "code",
   "execution_count": null,
   "metadata": {},
   "outputs": [],
   "source": [
    "nasa=pd.read_csv('/content/drive/My Drive/Geospatial Data Analysis/Exercises/Ex1/Kastoria/POWER_Point_Daily_20160101_20161231_040d5404N_021d3403E_LST_mdf.csv')"
   ]
  },
  {
   "cell_type": "code",
   "execution_count": null,
   "metadata": {},
   "outputs": [],
   "source": [
    "nasa"
   ]
  },
  {
   "cell_type": "code",
   "execution_count": null,
   "metadata": {},
   "outputs": [],
   "source": [
    "dates = [\n",
    "    (2016, 1, 25),\n",
    "    (2016, 2, 14),\n",
    "    (2016, 3, 28),\n",
    "    (2016, 4, 4),\n",
    "    (2016, 4, 27),\n",
    "    (2016, 6, 6),\n",
    "    (2016, 7, 3),\n",
    "    (2016, 7, 13),\n",
    "    (2016, 7, 23),\n",
    "    (2016, 7, 26),\n",
    "    (2016, 8, 5),\n",
    "    (2016, 8, 12),\n",
    "    (2016, 8, 15),\n",
    "    (2016, 8, 22),\n",
    "    (2016, 9, 4),\n",
    "    (2016, 9, 14),\n",
    "    (2016, 10, 1),\n",
    "    (2016, 10, 14),\n",
    "    (2016, 11, 13),\n",
    "    (2016, 12, 3),\n",
    "    (2016, 12, 10),\n",
    "    (2016, 12, 20),\n",
    "    (2016, 12, 23),\n",
    "    (2016, 12, 30),\n",
    "]\n",
    "print(dates)"
   ]
  },
  {
   "cell_type": "code",
   "execution_count": null,
   "metadata": {},
   "outputs": [],
   "source": [
    "dates_df = pd.DataFrame(dates, columns=['YEAR', 'MO', 'DY'])"
   ]
  },
  {
   "cell_type": "code",
   "execution_count": null,
   "metadata": {},
   "outputs": [],
   "source": [
    "dates_df = pd.DataFrame(dates, columns=['YEAR', 'MO', 'DY'])\n",
    "nasa = pd.merge(nasa, dates_df, on=['YEAR', 'MO', 'DY'])"
   ]
  },
  {
   "cell_type": "code",
   "execution_count": null,
   "metadata": {},
   "outputs": [],
   "source": [
    "nasa"
   ]
  },
  {
   "cell_type": "code",
   "execution_count": null,
   "metadata": {},
   "outputs": [],
   "source": [
    "def _wkt2esri(wkt:str)->str:\n",
    "    \"\"\"Converts WKT geometries to arcGIS geometry strings.\n",
    "\n",
    "    Args:\n",
    "        wkt (str): WKT geometry string\n",
    "    Returns:\n",
    "        str: ESRI arcGIS polygon geometry string\n",
    "    \"\"\"\n",
    "    geom = shapely.wkt.loads(wkt)\n",
    "    rings = None\n",
    "    # Testing for polygon type\n",
    "    if geom.geom_type == 'MultiPolygon':\n",
    "        rings = []\n",
    "        for pg in geom.geoms:\n",
    "            rings += [list(pg.exterior.coords)] + [list(interior.coords) for interior in pg.interiors]\n",
    "    elif geom.geom_type == 'Polygon':\n",
    "        rings = [list(geom.exterior.coords)] + [list(interior.coords) for interior in geom.interiors]\n",
    "    else:\n",
    "        print(\"Shape is not a polygon\")\n",
    "        return None\n",
    "\n",
    "    # Convert to esri geometry json\n",
    "    esri = json.dumps({'rings': rings})\n",
    "\n",
    "    return esri\n",
    "\n",
    "def corine(aoi:str, to_file:bool = False, fname:str = \"corine_2018.shp\")->tuple:\n",
    "    \"\"\"Downloads Corine Land Cover 2018 data from Copernicus REST API.\n",
    "\n",
    "    Args:\n",
    "        aoi (str): Path to file with the region of interest\n",
    "        to_file (bool, optional): Save result to file. Defaults to False\n",
    "        fname (str, optional): Path and name of the created file. Defaults to \"corine_2018.shp\"\n",
    "    Returns:\n",
    "        tuple: Corine Land Cover 2018 data as GeoDataFrame and the path to saved file\n",
    "    \"\"\"\n",
    "    HTTP_OK = 200\n",
    "\n",
    "    geoms = gpd.read_file(aoi).dissolve()\n",
    "    polygons = list(geoms.geometry)\n",
    "    wkt = f\"{polygons[0]}\"\n",
    "    esri = _wkt2esri(wkt)\n",
    "    # Build URL for retrieving data\n",
    "    server = \"https://image.discomap.eea.europa.eu/arcgis/rest/services/Corine/CLC2018_WM/MapServer/0/query?\"\n",
    "    payload = {\n",
    "        \"geometry\": esri,\n",
    "        \"f\": \"GeoJSON\",\n",
    "        \"inSR\": geoms.crs.to_epsg(),\n",
    "        \"geometryType\": \"esriGeometryPolygon\",\n",
    "        \"spatialRel\": \"esriSpatialRelIntersects\",\n",
    "        \"returnGeometry\": True\n",
    "        }\n",
    "    print (\"Starting retrieval...\")\n",
    "    request = requests.get(server, params = payload)\n",
    "    # Check if server didn't respond to HTTP code = 200\n",
    "    if request.status_code != HTTP_OK:\n",
    "        raise requests.exceptions.HTTPError(\"Failed retrieving POWER data, server returned HTTP code: {} on following URL {}.\".format(request.status_code, request.url))\n",
    "    # In other case is successful\n",
    "    print (\"Successfully retrieved data!\")\n",
    "    json_data = request.json()\n",
    "    data = gpd.GeoDataFrame.from_features(json_data)\n",
    "    if to_file:\n",
    "        data.to_file(fname)\n",
    "\n",
    "    return data, fname"
   ]
  },
  {
   "cell_type": "code",
   "execution_count": null,
   "metadata": {},
   "outputs": [],
   "source": [
    "study_area_input, study_area_shp = corine('/content/drive/My Drive/Geospatial Data Analysis/Exercises/Ex1/map.geojson', True, '/content/drive/My Drive/Geospatial Data Analysis/Exercises/Ex1/study_area.shp')"
   ]
  },
  {
   "cell_type": "markdown",
   "metadata": {},
   "source": [
    "**Ερώτημα Β**"
   ]
  },
  {
   "cell_type": "markdown",
   "metadata": {},
   "source": [
    "Θα οπτικοποιήσω τα κανάλια Blue, Green και Red από το \"kastoria\" για την ημερομηνία 26/07/2016. Άρα, τα 91ο, 92ο και 93ο κανάλια αντίστοιχα."
   ]
  },
  {
   "cell_type": "code",
   "execution_count": null,
   "metadata": {},
   "outputs": [],
   "source": [
    "blue = kastoria.read(91)\n",
    "green = kastoria.read(92)\n",
    "red = kastoria.read(93)"
   ]
  },
  {
   "cell_type": "code",
   "execution_count": null,
   "metadata": {},
   "outputs": [],
   "source": [
    "fig, axes = plt.subplots(1, 3, figsize=(15, 5))\n",
    "\n",
    "axes[0].imshow(blue, cmap='Blues')\n",
    "axes[0].set_title('Blue Channel')\n",
    "\n",
    "axes[1].imshow(green, cmap='Greens')\n",
    "axes[1].set_title('Green Channel')\n",
    "\n",
    "axes[2].imshow(red, cmap='Reds')\n",
    "axes[2].set_title('Red Channel')\n",
    "\n",
    "plt.tight_layout()\n",
    "plt.savefig('B_G_R.png')\n",
    "plt.show()"
   ]
  },
  {
   "cell_type": "code",
   "execution_count": null,
   "metadata": {},
   "outputs": [],
   "source": [
    "rgb_image = np.stack([red, green, blue], axis=-1)\n",
    "\n",
    "plt.figure(figsize=(8, 8))\n",
    "plt.imshow(rgb_image)\n",
    "plt.title('RGB Image')\n",
    "plt.axis('off')\n",
    "plt.savefig('RGB.png')\n",
    "plt.show()"
   ]
  },
  {
   "cell_type": "markdown",
   "metadata": {},
   "source": [
    "Ελέγχω το σύστημα συντεταγμένων για το study_area shapefile."
   ]
  },
  {
   "cell_type": "markdown",
   "metadata": {},
   "source": [
    "Με χρήση qgis βλέπω για το study_area EPSG:4326 (εδώ έδινε None)."
   ]
  },
  {
   "cell_type": "code",
   "execution_count": null,
   "metadata": {},
   "outputs": [],
   "source": [
    "source_crs = 'EPSG:4326'  # WGS 84\n",
    "target_crs = 'EPSG:32634'  # WGS 84 / UTM zone 34N\n",
    "\n",
    "transformer = Transformer.from_crs(source_crs, target_crs)\n",
    "\n",
    "study_area_reprojected = study_area.to_crs(target_crs)\n",
    "\n",
    "study_area_reprojected.to_file('study_area_reprojected.shp')"
   ]
  },
  {
   "cell_type": "code",
   "execution_count": null,
   "metadata": {},
   "outputs": [],
   "source": [
    "study_area_reprojected.geometry.values[0]"
   ]
  },
  {
   "cell_type": "code",
   "execution_count": null,
   "metadata": {},
   "outputs": [],
   "source": [
    "study_area_geom = study_area_reprojected.geometry.values[0]\n",
    "print(study_area_geom)"
   ]
  },
  {
   "cell_type": "code",
   "execution_count": null,
   "metadata": {},
   "outputs": [],
   "source": [
    "clipped_image, clipped_transform=mask(kastoria, [study_area_geom], crop=True)"
   ]
  },
  {
   "cell_type": "code",
   "execution_count": null,
   "metadata": {},
   "outputs": [],
   "source": [
    "clipped_meta = kastoria.meta.copy()\n",
    "clipped_meta.update({\n",
    "    'height': clipped_image.shape[1],\n",
    "    'width': clipped_image.shape[2],\n",
    "    'transform': clipped_transform\n",
    "})"
   ]
  },
  {
   "cell_type": "code",
   "execution_count": null,
   "metadata": {},
   "outputs": [],
   "source": [
    "clipped_meta"
   ]
  },
  {
   "cell_type": "code",
   "execution_count": null,
   "metadata": {},
   "outputs": [],
   "source": [
    "# with rasterio.open('/content/drive/My Drive/Geospatial Data Analysis/Exercises/Ex1/clipped_image.tif', 'w', **clipped_meta) as clp:\n",
    "#   clp.write(clipped_image)"
   ]
  },
  {
   "cell_type": "code",
   "execution_count": null,
   "metadata": {},
   "outputs": [],
   "source": [
    "with rasterio.open('/content/drive/My Drive/Geospatial Data Analysis/Exercises/Ex1/clipped_image.tif') as clp:\n",
    "\n",
    "  red_cl = clp.read(93)\n",
    "  green_cl = clp.read(92)\n",
    "  blue_cl = clp.read(91)\n",
    "\n",
    "  clipped_rgb_image = np.stack([red_cl, green_cl, blue_cl], axis=-1)\n",
    "\n",
    "  fig, ax = plt.subplots(figsize=(10, 10))\n",
    "\n",
    "  ax.imshow(clipped_rgb_image)\n",
    "  ax.set_title('Study Area - RGB', fontsize=15)\n",
    "  plt.savefig('clipped_kastoria.png')\n",
    "  plt.show()"
   ]
  },
  {
   "cell_type": "code",
   "execution_count": null,
   "metadata": {},
   "outputs": [],
   "source": [
    "NDVI_bands = list(range(7, 238, 10))\n",
    "print(NDVI_bands)"
   ]
  },
  {
   "cell_type": "code",
   "execution_count": null,
   "metadata": {},
   "outputs": [],
   "source": [
    "NDWI_bands = list(range(9, 240, 10))\n",
    "print(NDWI_bands)"
   ]
  },
  {
   "cell_type": "code",
   "execution_count": null,
   "metadata": {},
   "outputs": [],
   "source": [
    "NDBI_bands = list(range(10, 241, 10))\n",
    "print(NDBI_bands)"
   ]
  },
  {
   "cell_type": "code",
   "execution_count": null,
   "metadata": {},
   "outputs": [],
   "source": [
    "NDVIs = []\n",
    "NDWIs = []\n",
    "NDBIs = []\n",
    "\n",
    "with rasterio.open('/content/drive/My Drive/Geospatial Data Analysis/Exercises/Ex1/clipped_image.tif') as clp:\n",
    "\n",
    "    for i in NDVI_bands:\n",
    "      NDVI = clp.read(i)\n",
    "      NDVIs.append(NDVI)\n",
    "\n",
    "    for j in NDWI_bands:\n",
    "      NDWI = clp.read(j)\n",
    "      NDWIs.append(NDWI)\n",
    "\n",
    "    for k in NDBI_bands:\n",
    "     NDBI = clp.read(k)\n",
    "     NDBIs.append(NDBI)"
   ]
  },
  {
   "cell_type": "code",
   "execution_count": null,
   "metadata": {},
   "outputs": [],
   "source": [
    "stacked_ndvis = np.stack(NDVIs, axis=0)\n",
    "mean_NDVI = np.mean(stacked_ndvis, axis=0)\n",
    "print(\"Mean NDVI:\", mean_NDVI)"
   ]
  },
  {
   "cell_type": "code",
   "execution_count": null,
   "metadata": {},
   "outputs": [],
   "source": [
    "stacked_ndwis = np.stack(NDWIs, axis=0)\n",
    "mean_NDWI = np.mean(stacked_ndwis, axis=0)\n",
    "print(\"Mean NDWI:\", mean_NDWI)"
   ]
  },
  {
   "cell_type": "code",
   "execution_count": null,
   "metadata": {},
   "outputs": [],
   "source": [
    "stacked_ndbis = np.stack(NDBIs, axis=0)\n",
    "mean_NDBI = np.mean(stacked_ndbis, axis=0)\n",
    "print(\"Mean NDBI:\", mean_NDBI)"
   ]
  },
  {
   "cell_type": "code",
   "execution_count": null,
   "metadata": {},
   "outputs": [],
   "source": [
    "for i, ndvi_values in enumerate(NDVIs):\n",
    "\n",
    "    plt.figure(figsize=(10, 8))\n",
    "    plt.imshow(ndvi_values, cmap='viridis')\n",
    "    plt.colorbar(label='NDVI')\n",
    "    plt.title(f'NDVI for Date {i+1}')\n",
    "    plt.xlabel('Pixel Column')\n",
    "    plt.ylabel('Pixel Row')\n",
    "    plt.show()"
   ]
  },
  {
   "cell_type": "code",
   "execution_count": null,
   "metadata": {},
   "outputs": [],
   "source": [
    "for i, ndwi_values in enumerate(NDWIs):\n",
    "\n",
    "    plt.figure(figsize=(10, 8))\n",
    "    plt.imshow(ndwi_values, cmap='Blues')\n",
    "    plt.colorbar(label='NDWI')\n",
    "    plt.title(f'NDWI for Date {i+1}')\n",
    "    plt.xlabel('Pixel Column')\n",
    "    plt.ylabel('Pixel Row')\n",
    "    plt.show()"
   ]
  },
  {
   "cell_type": "code",
   "execution_count": null,
   "metadata": {},
   "outputs": [],
   "source": [
    "for i, ndbi_values in enumerate(NDBIs):\n",
    "\n",
    "    plt.figure(figsize=(10, 8))\n",
    "    plt.imshow(ndvi_values, cmap='cividis')\n",
    "    plt.colorbar(label='NDBI')\n",
    "    plt.title(f'NDBI for Date {i+1}')\n",
    "    plt.xlabel('Pixel Column')\n",
    "    plt.ylabel('Pixel Row')\n",
    "    plt.show()"
   ]
  },
  {
   "cell_type": "code",
   "execution_count": null,
   "metadata": {},
   "outputs": [],
   "source": [
    "datetimes = [datetime.date(year, month, day) for year, month, day in dates]\n",
    "\n",
    "mean_ndvi_values = [np.mean(ndvi) for ndvi in NDVIs]\n",
    "mean_ndwi_values = [np.mean(ndwi) for ndwi in NDWIs]\n",
    "mean_ndbi_values = [np.mean(ndbi) for ndbi in NDBIs]\n",
    "\n",
    "plt.figure(figsize=(10, 6))\n",
    "plt.plot(datetimes, mean_ndvi_values, color='g', linestyle='-', label = \"NDVI\")\n",
    "plt.plot(datetimes, mean_ndwi_values, color='b', linestyle='-', label = \"NDWI\")\n",
    "plt.plot(datetimes, mean_ndbi_values, color='r', linestyle='-', label = \"NDBI\")\n",
    "plt.title('Indices Over Time')\n",
    "plt.xlabel('Date')\n",
    "plt.ylabel('Mean Value')\n",
    "plt.xticks(rotation=45)\n",
    "plt.grid(True)\n",
    "plt.legend()\n",
    "plt.tight_layout()\n",
    "plt.savefig('indices_over_time.png')\n",
    "plt.show()"
   ]
  },
  {
   "cell_type": "markdown",
   "metadata": {},
   "source": [
    "**Ερώτημα 3**"
   ]
  },
  {
   "cell_type": "markdown",
   "metadata": {},
   "source": [
    "Διαβάζουμε τα δεδομένα (υπό μορφή GeoJSON και στο σύστημα αναφοράς WGS84) για αεροδρόμια, φράγματα, ποτάμια,\n",
    "ακτογραμμή, όρια περιφερειακών ενοτήτων και περιφερειών."
   ]
  },
  {
   "cell_type": "code",
   "execution_count": null,
   "metadata": {},
   "outputs": [],
   "source": [
    "regions = gpd.read_file('https://geodata.gov.gr/geoserver/wfs/?service=WFS&version=1.0.0&request=GetFeature&typeName=geodata.gov.gr:d7f50467-e5ef-49ac-a7ce-15df3e2ed738&outputFormat=application/json&srsName=epsg:4326')\n",
    "reg_units = gpd.read_file('https://geodata.gov.gr/geoserver/wfs/?service=WFS&version=1.0.0&request=GetFeature&typeName=geodata.gov.gr:0d8c1236-b1dc-4823-85ef-35de6feb07cc&outputFormat=application/json&srsName=epsg:4326')\n",
    "dams = gpd.read_file('https://geodata.gov.gr/geoserver/wfs/?service=WFS&version=1.0.0&request=GetFeature&typeName=geodata.gov.gr:a16f80c0-862f-42d6-9f5b-92d198030104&outputFormat=application/json&srsName=epsg:4326')\n",
    "coast = gpd.read_file('https://geodata.gov.gr/geoserver/wfs/?service=WFS&version=1.0.0&request=GetFeature&typeName=geodata.gov.gr:326b7fce-18a8-4248-bdf2-6df8b01b3554&outputFormat=application/json&srsName=epsg:4326')\n",
    "airports = gpd.read_file('https://geodata.gov.gr/geoserver/wfs/?service=WFS&version=1.0.0&request=GetFeature&typeName=geodata.gov.gr:4f097ff9-4fbb-4411-86f3-1e7e621df61a&outputFormat=application/json&srsName=epsg:4326')\n",
    "rivers=gpd.read_file('https://geodata.gov.gr/geoserver/wfs/?service=WFS&version=1.0.0&request=GetFeature&typeName=geodata.gov.gr:ece02bd9-8a76-41b1-9e61-093fc63bd944&outputFormat=application/json&srsName=epsg:4326')"
   ]
  },
  {
   "cell_type": "code",
   "execution_count": null,
   "metadata": {},
   "outputs": [],
   "source": [
    "regions"
   ]
  },
  {
   "cell_type": "code",
   "execution_count": null,
   "metadata": {},
   "outputs": [],
   "source": [
    "reg_units"
   ]
  },
  {
   "cell_type": "code",
   "execution_count": null,
   "metadata": {},
   "outputs": [],
   "source": [
    "dams"
   ]
  },
  {
   "cell_type": "code",
   "execution_count": null,
   "metadata": {},
   "outputs": [],
   "source": [
    "coast"
   ]
  },
  {
   "cell_type": "code",
   "execution_count": null,
   "metadata": {},
   "outputs": [],
   "source": [
    "airports"
   ]
  },
  {
   "cell_type": "code",
   "execution_count": null,
   "metadata": {},
   "outputs": [],
   "source": [
    "rivers"
   ]
  },
  {
   "cell_type": "markdown",
   "metadata": {},
   "source": [
    "Πραγματοποιώ κάποια ερωτήματα, όπως ζητείται. Αρχικά θα βρω τα αεροδρόμια που βρίσκονται στην Περιφέρεια Αν. Μακεδονίας - Θράκης."
   ]
  },
  {
   "cell_type": "code",
   "execution_count": null,
   "metadata": {},
   "outputs": [],
   "source": [
    "target_region1 = regions[regions['PER'] == 'Π. ΑΝΑΤΟΛΙΚΗΣ ΜΑΚΕΔΟΝΙΑΣ - ΘΡΑΚΗΣ']\n",
    "airports_within_region1 = gpd.sjoin(airports, target_region1, op='within')"
   ]
  },
  {
   "cell_type": "code",
   "execution_count": null,
   "metadata": {},
   "outputs": [],
   "source": [
    "airports_within_region1"
   ]
  },
  {
   "cell_type": "markdown",
   "metadata": {},
   "source": [
    "Τώρα θα βρω το φράγμα που βρίσκεται πιο κοντά στον 1111ο ποταμό του dataframe rivers."
   ]
  },
  {
   "cell_type": "code",
   "execution_count": null,
   "metadata": {},
   "outputs": [],
   "source": [
    "river1=rivers.iloc[1112]['name']\n",
    "print(river1)"
   ]
  },
  {
   "cell_type": "code",
   "execution_count": null,
   "metadata": {},
   "outputs": [],
   "source": [
    "target_river = rivers[rivers['name'] == 'ΛΥΓΚΟΣ Π.'].geometry.iloc[0]\n",
    "dams['distance_to_river'] = dams.geometry.distance(target_river)\n",
    "nearest_dam = dams.loc[dams['distance_to_river'].idxmin()]\n",
    "\n",
    "print(nearest_dam)"
   ]
  },
  {
   "cell_type": "markdown",
   "metadata": {},
   "source": [
    "Τέλος, θα πάρω τα ποτάμια που διασχίζουν την Περιφέρεια Στερεάς Ελλάδας."
   ]
  },
  {
   "cell_type": "code",
   "execution_count": null,
   "metadata": {},
   "outputs": [],
   "source": [
    "sterea_elladas_region = regions[regions['PER'] == 'Π. ΣΤΕΡΕΑΣ ΕΛΛΑΔΑΣ']\n",
    "intersecting_rivers = gpd.sjoin(rivers, sterea_elladas_region, how=\"inner\", op=\"intersects\")"
   ]
  },
  {
   "cell_type": "code",
   "execution_count": null,
   "metadata": {},
   "outputs": [],
   "source": [
    "intersecting_rivers"
   ]
  },
  {
   "cell_type": "markdown",
   "metadata": {},
   "source": [
    "Ακολούθως απεικονίζεται η περιοχή της Καστοριάς από το Corine Land Cover 2018, μαζί με την περιοχή μελέτης (πολύγωνο) και τη θέση (σημείο) του \"μετεωρολογικού σταθμού\" που επιλέχθηκε."
   ]
  },
  {
   "cell_type": "code",
   "execution_count": null,
   "metadata": {},
   "outputs": [],
   "source": [
    "kastoria_polygon = gpd.read_file('/content/drive/My Drive/Geospatial Data Analysis/Exercises/Ex1/kastoria.geojson')\n",
    "foteini = gpd.read_file('/content/drive/My Drive/Geospatial Data Analysis/Exercises/Ex1/foteini.geojson')"
   ]
  },
  {
   "cell_type": "code",
   "execution_count": null,
   "metadata": {},
   "outputs": [],
   "source": [
    "kastoria_polygon_input, kastoria_polygon_shp = corine('/content/drive/My Drive/Geospatial Data Analysis/Exercises/Ex1/kastoria.geojson', True, '/content/drive/My Drive/Geospatial Data Analysis/Exercises/Ex1/kastoria_polygon.shp')"
   ]
  },
  {
   "cell_type": "code",
   "execution_count": null,
   "metadata": {},
   "outputs": [],
   "source": [
    "kastoria_polygon_shp=gpd.read_file('kastoria_polygon.shp')"
   ]
  },
  {
   "cell_type": "code",
   "execution_count": null,
   "metadata": {},
   "outputs": [],
   "source": [
    "print(kastoria_polygon_shp.crs)"
   ]
  },
  {
   "cell_type": "code",
   "execution_count": null,
   "metadata": {},
   "outputs": [],
   "source": [
    "kastoria_polygon_shp.set_crs(epsg=4326, inplace=True)"
   ]
  },
  {
   "cell_type": "code",
   "execution_count": null,
   "metadata": {},
   "outputs": [],
   "source": [
    "source_crs = 'EPSG:4326'  # WGS 84\n",
    "target_crs = 'EPSG:32634'  # WGS 84 / UTM zone 34N\n",
    "\n",
    "transformer = Transformer.from_crs(source_crs, target_crs)\n",
    "\n",
    "kastoria_polygon_reprojected = kastoria_polygon_shp.to_crs(target_crs)\n",
    "\n",
    "kastoria_polygon_reprojected.to_file('kastoria_polygon_reprojected.shp')"
   ]
  },
  {
   "cell_type": "code",
   "execution_count": null,
   "metadata": {},
   "outputs": [],
   "source": [
    "kastoria_polygon_reprojected"
   ]
  },
  {
   "cell_type": "code",
   "execution_count": null,
   "metadata": {},
   "outputs": [],
   "source": [
    "def to_hex2(s: str) -> str:\n",
    "    return hex(int(s))[2:].zfill(2)\n",
    "\n",
    "clc_legend = pd.read_csv('clc_legend.csv')\n",
    "clc_legend = clc_legend.dropna(subset=['RGB'])\n",
    "clc_legend['RGB_HEX'] = clc_legend['RGB'].str.split('-').map(lambda lst: '#' + ''.join(map(to_hex2, lst)))\n",
    "clc_legend['CLC_CODE'] = clc_legend['CLC_CODE'].astype(int).astype(str)\n",
    "\n",
    "code_to_color = dict(zip(clc_legend['CLC_CODE'], clc_legend['RGB_HEX']))\n",
    "\n",
    "kastoria_polygon_reprojected['color'] = kastoria_polygon_reprojected['Code_18'].map(code_to_color.get)"
   ]
  },
  {
   "cell_type": "code",
   "execution_count": null,
   "metadata": {},
   "outputs": [],
   "source": [
    "foteini"
   ]
  },
  {
   "cell_type": "code",
   "execution_count": null,
   "metadata": {},
   "outputs": [],
   "source": [
    "source_crs = 'EPSG:4326'  # WGS 84\n",
    "target_crs = 'EPSG:32634'  # WGS 84 / UTM zone 34N\n",
    "\n",
    "transformer = Transformer.from_crs(source_crs, target_crs)\n",
    "\n",
    "foteini_reprojected = foteini.to_crs(target_crs)"
   ]
  },
  {
   "cell_type": "code",
   "execution_count": null,
   "metadata": {},
   "outputs": [],
   "source": [
    "ax = kastoria_polygon_reprojected.plot(color=kastoria_polygon_reprojected['color'])\n",
    "study_area_reprojected.plot(ax=ax)\n",
    "foteini_reprojected.plot(ax=ax, color='red')\n",
    "ax.set_axis_off()\n",
    "ax.set_title('Corine Land Cover 2018')\n",
    "\n",
    "plt.savefig('corine_land_cover_map.png')\n",
    "\n",
    "plt.show()"
   ]
  },
  {
   "cell_type": "markdown",
   "metadata": {},
   "source": [
    "Διαγράμματα θερμοκρασίας, υγρασίας και βροχόπτωσης για τη θέση (Φωτεινή) που επιλέχθηκε εντός του πολυγώνου μελέτης. Τα δεδομένα έχουν αποθηκευτεί στο dataframe 'nasa' από το πρώτο ερώτημα."
   ]
  },
  {
   "cell_type": "code",
   "execution_count": null,
   "metadata": {},
   "outputs": [],
   "source": [
    "datetimes = [datetime.date(year, month, day) for year, month, day in dates]"
   ]
  },
  {
   "cell_type": "code",
   "execution_count": null,
   "metadata": {},
   "outputs": [],
   "source": [
    "fig, axs = plt.subplots(3, 1, figsize=(10, 10), sharex=True)\n",
    "\n",
    "axs[0].plot(datetimes, nasa['T2M'], color='orange')\n",
    "axs[0].set_title('2-Meter Temperature (T2M)')\n",
    "axs[0].set_ylabel('Temperature (°C)')\n",
    "\n",
    "axs[1].plot(datetimes, nasa['QV2M'], color='green')\n",
    "axs[1].set_title('Specific Humidity at 2 Meters (QV2M)')\n",
    "axs[1].set_ylabel('Specific Humidity (kg/kg)')\n",
    "\n",
    "axs[2].plot(datetimes, nasa['PRECTOTCORR'], color='blue')\n",
    "axs[2].set_title('Precipitation (PRECTOTCORR)')\n",
    "axs[2].set_ylabel('Precipitation (mm)')\n",
    "\n",
    "plt.xlabel('Date')\n",
    "plt.tight_layout()\n",
    "\n",
    "plt.savefig('Weather_data.png')\n",
    "\n",
    "plt.show()"
   ]
  },
  {
   "cell_type": "markdown",
   "metadata": {},
   "source": [
    "**Ερώτημα 4**"
   ]
  },
  {
   "cell_type": "code",
   "execution_count": null,
   "metadata": {},
   "outputs": [],
   "source": [
    "url = 'https://image.discomap.eea.europa.eu/arcgis/services/Corine/CLC2018_WM/MapServer/WMSServer?request=GetCapabilities&service=WMS'\n",
    "corine_layer = '12'\n",
    "\n",
    "m = leaf.Map()\n",
    "m.add_wms_layer(\n",
    "    url=url, layers='12', name='Corine Land Cover', format='image/png', shown=True\n",
    ")\n",
    "\n",
    "m.add_shp('airports.shp', 'Greece Airports')\n",
    "m.add_shp('dams.shp', 'Greece Dams')\n",
    "m.add_shp('regions.shp', 'Regions', style={\"color\": \"black\", \"weight\": 5})\n",
    "m.add_shp('nomoi.shp', 'Regional Units', style={\"color\": \"red\", \"weight\": 2})\n",
    "\n",
    "legend_dict = {\n",
    "    'Greece Airports': 'blue',\n",
    "    'Greece Dams': 'green',\n",
    "    'Regions': 'black',\n",
    "    'Regional Units': 'red'\n",
    "}\n",
    "\n",
    "m.add_legend(legend_title=\"Legend\", legend_dict=legend_dict)"
   ]
  },
  {
   "cell_type": "code",
   "execution_count": null,
   "metadata": {},
   "outputs": [],
   "source": [
    "m"
   ]
  }
 ],
 "metadata": {
  "language_info": {
   "name": "python"
  }
 },
 "nbformat": 4,
 "nbformat_minor": 2
}
